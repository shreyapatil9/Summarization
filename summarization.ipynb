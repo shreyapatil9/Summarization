{
 "cells": [
  {
   "cell_type": "markdown",
   "source": [
    "## My corpus"
   ],
   "metadata": {}
  },
  {
   "cell_type": "code",
   "execution_count": 3,
   "source": [
    "import datasets\n",
    "data = datasets.load_dataset(\"multi_news\")\n",
    "train_dataset, val_dataset = data['train'], data['validation']\n",
    "\n",
    "val_dataset = [val_dataset[i] for i in range(0, len(val_dataset), 5)]"
   ],
   "outputs": [
    {
     "output_type": "display_data",
     "data": {
      "application/vnd.jupyter.widget-view+json": {
       "model_id": "27319f8078c24fbcaae5ac93b96356ce",
       "version_major": 2,
       "version_minor": 0
      },
      "text/plain": [
       "Downloading builder script:   0%|          | 0.00/1.73k [00:00<?, ?B/s]"
      ]
     },
     "metadata": {}
    },
    {
     "output_type": "display_data",
     "data": {
      "application/vnd.jupyter.widget-view+json": {
       "model_id": "cdf661f0d06b47f791a7296e57c4c777",
       "version_major": 2,
       "version_minor": 0
      },
      "text/plain": [
       "Downloading metadata:   0%|          | 0.00/1.37k [00:00<?, ?B/s]"
      ]
     },
     "metadata": {}
    },
    {
     "output_type": "stream",
     "name": "stderr",
     "text": [
      "Using custom data configuration default\n"
     ]
    },
    {
     "output_type": "stream",
     "name": "stdout",
     "text": [
      "Downloading and preparing dataset multi_news/default (download: 721.73 MiB, generated: 664.42 MiB, post-processed: Unknown size, total: 1.35 GiB) to C:\\Users\\Dino\\.cache\\huggingface\\datasets\\multi_news\\default\\1.0.0\\9df9096a1eef569784b4859cc8009c53f31c66b9ccb4f9033feee1f875003adf...\n"
     ]
    },
    {
     "output_type": "display_data",
     "data": {
      "application/vnd.jupyter.widget-view+json": {
       "model_id": "99295e798b2e4a2c982ea00bd1a2e1a0",
       "version_major": 2,
       "version_minor": 0
      },
      "text/plain": [
       "Downloading data files:   0%|          | 0/3 [00:00<?, ?it/s]"
      ]
     },
     "metadata": {}
    },
    {
     "output_type": "display_data",
     "data": {
      "application/vnd.jupyter.widget-view+json": {
       "model_id": "3df355d4aa2c4e6dbad236a0f2097158",
       "version_major": 2,
       "version_minor": 0
      },
      "text/plain": [
       "Downloading data:   0%|          | 0.00/548M [00:00<?, ?B/s]"
      ]
     },
     "metadata": {}
    },
    {
     "output_type": "display_data",
     "data": {
      "application/vnd.jupyter.widget-view+json": {
       "model_id": "6c19e645298b4130bb92f7e1887e871f",
       "version_major": 2,
       "version_minor": 0
      },
      "text/plain": [
       "Downloading data:   0%|          | 0.00/58.8M [00:00<?, ?B/s]"
      ]
     },
     "metadata": {}
    },
    {
     "output_type": "display_data",
     "data": {
      "application/vnd.jupyter.widget-view+json": {
       "model_id": "995b9798b35843e6b803f475283c02e9",
       "version_major": 2,
       "version_minor": 0
      },
      "text/plain": [
       "Downloading data:   0%|          | 0.00/66.9M [00:00<?, ?B/s]"
      ]
     },
     "metadata": {}
    },
    {
     "output_type": "display_data",
     "data": {
      "application/vnd.jupyter.widget-view+json": {
       "model_id": "3fa3d4d139a042f6be7fb22574b63dd5",
       "version_major": 2,
       "version_minor": 0
      },
      "text/plain": [
       "Downloading data:   0%|          | 0.00/7.30M [00:00<?, ?B/s]"
      ]
     },
     "metadata": {}
    },
    {
     "output_type": "display_data",
     "data": {
      "application/vnd.jupyter.widget-view+json": {
       "model_id": "85f7078842a842aaaf448c2525dab59a",
       "version_major": 2,
       "version_minor": 0
      },
      "text/plain": [
       "Downloading data:   0%|          | 0.00/69.0M [00:00<?, ?B/s]"
      ]
     },
     "metadata": {}
    },
    {
     "output_type": "display_data",
     "data": {
      "application/vnd.jupyter.widget-view+json": {
       "model_id": "4c672dc39fb54402bd53fc73a0140577",
       "version_major": 2,
       "version_minor": 0
      },
      "text/plain": [
       "Downloading data:   0%|          | 0.00/7.31M [00:00<?, ?B/s]"
      ]
     },
     "metadata": {}
    },
    {
     "output_type": "display_data",
     "data": {
      "application/vnd.jupyter.widget-view+json": {
       "model_id": "",
       "version_major": 2,
       "version_minor": 0
      },
      "text/plain": [
       "Generating train split:   0%|          | 0/44972 [00:00<?, ? examples/s]"
      ]
     },
     "metadata": {}
    },
    {
     "output_type": "display_data",
     "data": {
      "application/vnd.jupyter.widget-view+json": {
       "model_id": "",
       "version_major": 2,
       "version_minor": 0
      },
      "text/plain": [
       "Generating validation split:   0%|          | 0/5622 [00:00<?, ? examples/s]"
      ]
     },
     "metadata": {}
    },
    {
     "output_type": "display_data",
     "data": {
      "application/vnd.jupyter.widget-view+json": {
       "model_id": "",
       "version_major": 2,
       "version_minor": 0
      },
      "text/plain": [
       "Generating test split:   0%|          | 0/5622 [00:00<?, ? examples/s]"
      ]
     },
     "metadata": {}
    },
    {
     "output_type": "stream",
     "name": "stdout",
     "text": [
      "Dataset multi_news downloaded and prepared to C:\\Users\\Dino\\.cache\\huggingface\\datasets\\multi_news\\default\\1.0.0\\9df9096a1eef569784b4859cc8009c53f31c66b9ccb4f9033feee1f875003adf. Subsequent calls will reuse this data.\n"
     ]
    },
    {
     "output_type": "display_data",
     "data": {
      "application/vnd.jupyter.widget-view+json": {
       "model_id": "6017e50a5fc94d82aef8b5ecc7c2727e",
       "version_major": 2,
       "version_minor": 0
      },
      "text/plain": [
       "  0%|          | 0/3 [00:00<?, ?it/s]"
      ]
     },
     "metadata": {}
    }
   ],
   "metadata": {}
  },
  {
   "cell_type": "code",
   "execution_count": 11,
   "source": [
    "example = val_dataset[50]\n",
    "example"
   ],
   "outputs": [
    {
     "output_type": "execute_result",
     "data": {
      "text/plain": [
       "{'document': 'If Donald Trump was looking for a way to upstage the Ted Cruz-John Kasich alliance, he just did. Big time. The Republican presidential front-runner signed a peace treaty of his own on Monday evening, agreeing to a one-on-one interview with Fox News Channel\\'s Megyn Kelly — his media nemesis and a journalist he has called \"the most overrated person on TV.\" \\n \\n \"Mr. Trump and I sat down together for a meeting earlier this month at my request,\" Kelly said in a statement. \"He was gracious with his time, and I asked him to consider an interview. I am happy to announce he has agreed, and I look forward to a fascinating exchange — our first sit-down interview together in nearly a year.\" \\n \\n [The long, strange history of the Donald Trump-Megyn Kelly feud] \\n \\n This deal, once almost impossible to imagine, represents a victory for both sides. For Trump, in the short run, it allows him to once again take attention away from his rivals, heading into Tuesday\\'s slate of five primary contests in which he appears likely to perform well. More broadly — barring a total meltdown in the interview — it should help him re-cast his image, a process he has already begun in earnest. The genesis of the feud was a question from Kelly in a debate last August about whether the surly billionaire possesses a presidential \"temperament.\" Trump hasn\\'t shown one throughout most of the primary season, but being cordial with Kelly could make him look more statesmanlike. \\n \\n And for Kelly, scoring this interview — which seems certain to be a ratings blockbuster — is a testament to patience and professionalism. She refused to cower as Trump hurled insults, yet she never responded with the same kind of personal vitriol. On her weekday primetime show, \"The Kelly File,\" she has often represented Trump\\'s perspective in exchanges with his critics, if only as a devil\\'s advocate. She has been playing the long game all along, perhaps sensing that her level-headedness would eventually pay off. \\n \\n The meeting Kelly referenced in her statement took place at Trump Tower in New York on April 13 and was the first major sign that tensions were beginning to ease. The \"Kelly File\" host told her viewers that night that she and the real estate magnate \"had a chance to clear the air\" after months of acrimony and that she hoped to announce an interview agreement soon. \\n \\n Now that it\\'s on, the Trump-Kelly sit-down will headline a previously announced special on Fox broadcasting called \"Megyn Kelly Presents\" on May 17. Fox said in a statement Monday that the hourlong telecast will include interviews with \"a wide variety of notable guests (to be announced) from the entertainment world and other spheres of human interest.\" Kelly\\'s regular primetime show on Fox News the next night will feature additional footage from her conversation with Trump. ||||| Fox News host Megyn Kelly will interview Republican presidential candidate Donald Trump in a Fox TV special to air next month. \\n \\n The GOP presidential front-runner will be a guest on \"Megyn Kelly Presents,\" a prime-time special airing May 17 on Fox TV. Extended portions of the sit-down interview will also appear on \"The Kelly File\" on Fox News Channel beginning on May 18. \\n \\n The interview, which will take place in New York, marks the first sit-down between the two since the August 2015 presidential debate on Fox News Channel. \\n \\n Kelly will explore how events unfolded with Trump after the August debate as one of the most prominent voices covering the 2016 presidential campaign of the front-runner, according to a statement from Fox News. \\n \\n She will also examine Trump’s successful campaign for the White House to date and his role in one of the most historic presidential runs in modern times. \\n \\n \"Mr. Trump and I sat down together for a meeting earlier this month at my request. He was gracious with his time and I asked him to consider an interview. I am happy to announce he has agreed, and I look forward to a fascinating exchange — our first sit-down interview together in nearly a year,” Kelly said in a statement announcing the upcoming interview. \\n \\n In addition to the Trump interview, “Megyn Kelly Presents” will feature a wide variety of notable guests from the entertainment world and other spheres of human interest to be interviewed by Kelly. The full list of guests will be announced at a later date. \\n \\n FOX News Chairman & CEO Roger Ailes is the show’s senior executive producer, while broadcast veteran Bill Geddie serves as the executive producer.',\n",
       " 'summary': '– Megyn Kelly\\'s meeting with Donald Trump didn\\'t just serve to iron out a truce. After requesting an interview with the Republican frontrunner, Kelly says Trump has agreed to appear in the special Megyn Kelly Presents, to air on May 17, Fox News reports. Extra segments will be featured afterward on The Kelly File. \"I look forward to a fascinating exchange—our first sit-down interview together in nearly a year,\" says Kelly. The Washington Post calls it \"a victory for both sides,\" allowing Trump to \"re-cast his image\" and Kelly to showcase her \"patience and professionalism.\" Plus, the special is \"certain to be a ratings blockbuster.\"'}"
      ]
     },
     "metadata": {},
     "execution_count": 11
    }
   ],
   "metadata": {}
  },
  {
   "cell_type": "code",
   "execution_count": 5,
   "source": [
    "example = val_dataset[50]\n",
    "sources = tuple(filter(len, map(str.strip, example['document'].split('|||||'))))\n",
    "\n",
    "for i, source in enumerate(sources):\n",
    "    print(f\"SOURCE #{i}: {source}\\n{'=' * 50}\\n\")\n",
    "print(\"SUMMARY:\\n\", example['summary'])"
   ],
   "outputs": [
    {
     "output_type": "stream",
     "name": "stdout",
     "text": [
      "SOURCE #0: If Donald Trump was looking for a way to upstage the Ted Cruz-John Kasich alliance, he just did. Big time. The Republican presidential front-runner signed a peace treaty of his own on Monday evening, agreeing to a one-on-one interview with Fox News Channel's Megyn Kelly — his media nemesis and a journalist he has called \"the most overrated person on TV.\" \n",
      " \n",
      " \"Mr. Trump and I sat down together for a meeting earlier this month at my request,\" Kelly said in a statement. \"He was gracious with his time, and I asked him to consider an interview. I am happy to announce he has agreed, and I look forward to a fascinating exchange — our first sit-down interview together in nearly a year.\" \n",
      " \n",
      " [The long, strange history of the Donald Trump-Megyn Kelly feud] \n",
      " \n",
      " This deal, once almost impossible to imagine, represents a victory for both sides. For Trump, in the short run, it allows him to once again take attention away from his rivals, heading into Tuesday's slate of five primary contests in which he appears likely to perform well. More broadly — barring a total meltdown in the interview — it should help him re-cast his image, a process he has already begun in earnest. The genesis of the feud was a question from Kelly in a debate last August about whether the surly billionaire possesses a presidential \"temperament.\" Trump hasn't shown one throughout most of the primary season, but being cordial with Kelly could make him look more statesmanlike. \n",
      " \n",
      " And for Kelly, scoring this interview — which seems certain to be a ratings blockbuster — is a testament to patience and professionalism. She refused to cower as Trump hurled insults, yet she never responded with the same kind of personal vitriol. On her weekday primetime show, \"The Kelly File,\" she has often represented Trump's perspective in exchanges with his critics, if only as a devil's advocate. She has been playing the long game all along, perhaps sensing that her level-headedness would eventually pay off. \n",
      " \n",
      " The meeting Kelly referenced in her statement took place at Trump Tower in New York on April 13 and was the first major sign that tensions were beginning to ease. The \"Kelly File\" host told her viewers that night that she and the real estate magnate \"had a chance to clear the air\" after months of acrimony and that she hoped to announce an interview agreement soon. \n",
      " \n",
      " Now that it's on, the Trump-Kelly sit-down will headline a previously announced special on Fox broadcasting called \"Megyn Kelly Presents\" on May 17. Fox said in a statement Monday that the hourlong telecast will include interviews with \"a wide variety of notable guests (to be announced) from the entertainment world and other spheres of human interest.\" Kelly's regular primetime show on Fox News the next night will feature additional footage from her conversation with Trump.\n",
      "==================================================\n",
      "\n",
      "SOURCE #1: Fox News host Megyn Kelly will interview Republican presidential candidate Donald Trump in a Fox TV special to air next month. \n",
      " \n",
      " The GOP presidential front-runner will be a guest on \"Megyn Kelly Presents,\" a prime-time special airing May 17 on Fox TV. Extended portions of the sit-down interview will also appear on \"The Kelly File\" on Fox News Channel beginning on May 18. \n",
      " \n",
      " The interview, which will take place in New York, marks the first sit-down between the two since the August 2015 presidential debate on Fox News Channel. \n",
      " \n",
      " Kelly will explore how events unfolded with Trump after the August debate as one of the most prominent voices covering the 2016 presidential campaign of the front-runner, according to a statement from Fox News. \n",
      " \n",
      " She will also examine Trump’s successful campaign for the White House to date and his role in one of the most historic presidential runs in modern times. \n",
      " \n",
      " \"Mr. Trump and I sat down together for a meeting earlier this month at my request. He was gracious with his time and I asked him to consider an interview. I am happy to announce he has agreed, and I look forward to a fascinating exchange — our first sit-down interview together in nearly a year,” Kelly said in a statement announcing the upcoming interview. \n",
      " \n",
      " In addition to the Trump interview, “Megyn Kelly Presents” will feature a wide variety of notable guests from the entertainment world and other spheres of human interest to be interviewed by Kelly. The full list of guests will be announced at a later date. \n",
      " \n",
      " FOX News Chairman & CEO Roger Ailes is the show’s senior executive producer, while broadcast veteran Bill Geddie serves as the executive producer.\n",
      "==================================================\n",
      "\n",
      "SUMMARY:\n",
      " – Megyn Kelly's meeting with Donald Trump didn't just serve to iron out a truce. After requesting an interview with the Republican frontrunner, Kelly says Trump has agreed to appear in the special Megyn Kelly Presents, to air on May 17, Fox News reports. Extra segments will be featured afterward on The Kelly File. \"I look forward to a fascinating exchange—our first sit-down interview together in nearly a year,\" says Kelly. The Washington Post calls it \"a victory for both sides,\" allowing Trump to \"re-cast his image\" and Kelly to showcase her \"patience and professionalism.\" Plus, the special is \"certain to be a ratings blockbuster.\"\n"
     ]
    }
   ],
   "metadata": {
    "scrolled": false
   }
  },
  {
   "cell_type": "markdown",
   "source": [
    "Let's write a **baseline** to improve on: Get the first 100 words of each text:"
   ],
   "metadata": {}
  },
  {
   "cell_type": "code",
   "execution_count": 6,
   "source": [
    "MAX_WORDS = 100\n",
    "\n",
    "def summarize_baseline(doc: str, max_words=MAX_WORDS):\n",
    "    sentences = nltk.sent_tokenize('\\n'.join(doc.split('|||||')))\n",
    "    summary = []\n",
    "    num_words = 0\n",
    "    \n",
    "    for sent in sentences:\n",
    "        sentence_length = len(nltk.word_tokenize(sent))\n",
    "        if num_words + sentence_length > max_words:\n",
    "            break\n",
    "        num_words += sentence_length\n",
    "        summary.append(sent)\n",
    "    return ' '.join(summary)"
   ],
   "outputs": [],
   "metadata": {}
  },
  {
   "cell_type": "code",
   "execution_count": 7,
   "source": [
    "print(summarize_baseline(val_dataset[50]['document']))"
   ],
   "outputs": [
    {
     "output_type": "stream",
     "name": "stdout",
     "text": [
      "If Donald Trump was looking for a way to upstage the Ted Cruz-John Kasich alliance, he just did. Big time. The Republican presidential front-runner signed a peace treaty of his own on Monday evening, agreeing to a one-on-one interview with Fox News Channel's Megyn Kelly — his media nemesis and a journalist he has called \"the most overrated person on TV.\" \"Mr. Trump and I sat down together for a meeting earlier this month at my request,\" Kelly said in a statement.\n"
     ]
    }
   ],
   "metadata": {}
  },
  {
   "cell_type": "markdown",
   "source": [
    "## 1. Baseline Summarization\n",
    "You always need a baseline to improve on!\n",
    "\n",
    "### BLEU"
   ],
   "metadata": {}
  },
  {
   "cell_type": "markdown",
   "source": [
    "[BLEU](https://en.wikipedia.org/wiki/BLEU), or the **Bilingual Evaluation Understudy**, is a score for comparing a candidate translation of text to one or more reference translations.\n",
    "\n",
    "Although developed for translation, it can be used to evaluate text generated for a suite of natural language processing tasks.\n",
    "\n",
    "The BLEU score was proposed by Kishore Papineni, et al. in this 2002 [paper](https://aclanthology.org/P02-1040.pdf).\n",
    "\n",
    "BLEU was one of the first metrics to claim a high correlation with human judgements of quality,[2][3] and remains one of the most popular automated and inexpensive metrics.\n",
    "\n",
    "BLEU's output is always a number between 0 and 1. This value indicates how similar the candidate text is to the reference texts, with values closer to 1 representing more similar texts\n",
    "\n",
    "The approach works by counting matching n-grams in the candidate translation to n-grams in the reference text, where 1-gram or unigram would be each token and a bigram comparison would be each word pair. The comparison is made regardless of word order.\n",
    "\n",
    "A BLEU score close to zero indicates poor similarity between candidate and references . A BLEU score close to one indicates strong similarity between candidate and references . If candidate is identical to one of the reference documents, then score is 1."
   ],
   "metadata": {}
  },
  {
   "cell_type": "code",
   "execution_count": 96,
   "source": [
    "from bleu import list_bleu\n",
    "ref = ['it is a white cat .',\n",
    "             'wow , this dog is huge .']\n",
    "ref1 = ['This cat is white .',\n",
    "             'wow , this is a huge dog .']\n",
    "hyp = ['it is a white kitten .',\n",
    "            'wowww , the dog is huge !']\n",
    "hyp1 = [\"it 's a white kitten .\",\n",
    "             'wow , this dog is huge !']\n",
    "list_bleu(ref, hyp)"
   ],
   "outputs": [
    {
     "output_type": "execute_result",
     "data": {
      "text/plain": [
       "-1"
      ]
     },
     "metadata": {},
     "execution_count": 96
    }
   ],
   "metadata": {}
  },
  {
   "cell_type": "markdown",
   "source": [
    "Hmm... let's try BLEU from NLTK:"
   ],
   "metadata": {}
  },
  {
   "cell_type": "code",
   "execution_count": 99,
   "source": [
    "from nltk.translate.bleu_score import sentence_bleu\n",
    "reference = [['this', 'is', 'a', 'test'], ['this', 'is' 'test']]\n",
    "candidate = ['this', 'is', 'a', 'test']\n",
    "score = sentence_bleu(reference, candidate)\n",
    "print(score)"
   ],
   "outputs": [
    {
     "output_type": "stream",
     "name": "stdout",
     "text": [
      "1.0\n"
     ]
    }
   ],
   "metadata": {}
  },
  {
   "cell_type": "code",
   "execution_count": 101,
   "source": [
    "# one word different\n",
    "from nltk.translate.bleu_score import sentence_bleu\n",
    "reference = [['the', 'quick', 'brown', 'fox', 'jumped', 'over', 'the', 'lazy', 'dog']]\n",
    "candidate = ['the', 'fast', 'brown', 'fox', 'jumped', 'over', 'the', 'lazy', 'dog']\n",
    "score = sentence_bleu(reference, candidate)\n",
    "print(score)"
   ],
   "outputs": [
    {
     "output_type": "stream",
     "name": "stdout",
     "text": [
      "0.7506238537503395\n"
     ]
    }
   ],
   "metadata": {}
  },
  {
   "cell_type": "code",
   "execution_count": 98,
   "source": [
    "from nltk.translate.bleu_score import sentence_bleu\n",
    "reference = [['this', 'is', 'a', 'huge', 'dog'], ['this', 'dog', 'is', 'huge']]\n",
    "candidate = ['this', 'is', 'a', 'test']\n",
    "score = sentence_bleu(reference, candidate)\n",
    "print(score)"
   ],
   "outputs": [
    {
     "output_type": "stream",
     "name": "stdout",
     "text": [
      "8.636168555094496e-78\n"
     ]
    },
    {
     "output_type": "stream",
     "name": "stderr",
     "text": [
      "d:\\anaconda3.5.1\\envs\\transformers\\lib\\site-packages\\nltk\\translate\\bleu_score.py:516: UserWarning: \n",
      "The hypothesis contains 0 counts of 4-gram overlaps.\n",
      "Therefore the BLEU score evaluates to 0, independently of\n",
      "how many N-gram overlaps of lower order it contains.\n",
      "Consider using lower n-gram order or use SmoothingFunction()\n",
      "  warnings.warn(_msg)\n"
     ]
    }
   ],
   "metadata": {}
  },
  {
   "cell_type": "markdown",
   "source": [
    "NLTK also provides a function called `corpus_bleu()` for calculating the BLEU score for multiple sentences such as a paragraph or a document.\n",
    "\n",
    "The references must be specified as a list of documents where each document is a list of references and each alternative reference is a list of tokens, e.g. a list of lists of lists of tokens. The candidate documents must be specified as a list where each document is a list of tokens, e.g. a list of lists of tokens."
   ],
   "metadata": {}
  },
  {
   "cell_type": "code",
   "execution_count": 102,
   "source": [
    "# very short\n",
    "from nltk.translate.bleu_score import sentence_bleu\n",
    "reference = [['the', 'quick', 'brown', 'fox', 'jumped', 'over', 'the', 'lazy', 'dog']]\n",
    "candidate = ['the', 'quick']\n",
    "score = sentence_bleu(reference, candidate)\n",
    "print(score)"
   ],
   "outputs": [
    {
     "output_type": "stream",
     "name": "stdout",
     "text": [
      "4.5044474950870215e-156\n"
     ]
    },
    {
     "output_type": "stream",
     "name": "stderr",
     "text": [
      "d:\\anaconda3.5.1\\envs\\transformers\\lib\\site-packages\\nltk\\translate\\bleu_score.py:516: UserWarning: \n",
      "The hypothesis contains 0 counts of 3-gram overlaps.\n",
      "Therefore the BLEU score evaluates to 0, independently of\n",
      "how many N-gram overlaps of lower order it contains.\n",
      "Consider using lower n-gram order or use SmoothingFunction()\n",
      "  warnings.warn(_msg)\n"
     ]
    }
   ],
   "metadata": {}
  },
  {
   "cell_type": "markdown",
   "source": [
    "#### Individual N-Gram BLEU Scores\n",
    "An individual N-gram score is the evaluation of just matching grams of a specific order, such as single words (1-gram) or word pairs (2-gram or bigram).\n",
    "\n",
    "The weights are specified as a tuple where each index refers to the gram order. To calculate the BLEU score only for 1-gram matches, you can specify a weight of 1 for 1-gram and 0 for 2, 3 and 4 (1, 0, 0, 0). For example:"
   ],
   "metadata": {}
  },
  {
   "cell_type": "code",
   "execution_count": 103,
   "source": [
    "# 1-gram individual BLEU\n",
    "from nltk.translate.bleu_score import sentence_bleu\n",
    "reference = [['this', 'is', 'small', 'test']]\n",
    "candidate = ['this', 'is', 'a', 'test']\n",
    "score = sentence_bleu(reference, candidate, weights=(1, 0, 0, 0))\n",
    "print(score)"
   ],
   "outputs": [
    {
     "output_type": "stream",
     "name": "stdout",
     "text": [
      "0.75\n"
     ]
    }
   ],
   "metadata": {}
  },
  {
   "cell_type": "markdown",
   "source": [
    "We can repeat this example for individual n-grams from 1 to 4 as follows:"
   ],
   "metadata": {}
  },
  {
   "cell_type": "code",
   "execution_count": 104,
   "source": [
    "# n-gram individual BLEU\n",
    "from nltk.translate.bleu_score import sentence_bleu\n",
    "reference = [['this', 'is', 'a', 'test']]\n",
    "candidate = ['this', 'is', 'a', 'test']\n",
    "print('Individual 1-gram: %f' % sentence_bleu(reference, candidate, weights=(1, 0, 0, 0)))\n",
    "print('Individual 2-gram: %f' % sentence_bleu(reference, candidate, weights=(0, 1, 0, 0)))\n",
    "print('Individual 3-gram: %f' % sentence_bleu(reference, candidate, weights=(0, 0, 1, 0)))\n",
    "print('Individual 4-gram: %f' % sentence_bleu(reference, candidate, weights=(0, 0, 0, 1)))"
   ],
   "outputs": [
    {
     "output_type": "stream",
     "name": "stdout",
     "text": [
      "Individual 1-gram: 1.000000\n",
      "Individual 2-gram: 1.000000\n",
      "Individual 3-gram: 1.000000\n",
      "Individual 4-gram: 1.000000\n"
     ]
    }
   ],
   "metadata": {}
  },
  {
   "cell_type": "markdown",
   "source": [
    "#### Cumulative N-Gram Scores\n",
    "Cumulative scores refer to the calculation of individual n-gram scores at all orders from 1 to n and weighting them by calculating the weighted geometric mean.\n",
    "\n",
    "By default, the sentence_bleu() and corpus_bleu() scores calculate the cumulative 4-gram BLEU score, also called BLEU-4.\n",
    "\n",
    "The weights for the BLEU-4 are 1/4 (25%) or 0.25 for each of the 1-gram, 2-gram, 3-gram and 4-gram scores. For example:"
   ],
   "metadata": {}
  },
  {
   "cell_type": "code",
   "execution_count": 105,
   "source": [
    "# 4-gram cumulative BLEU\n",
    "from nltk.translate.bleu_score import sentence_bleu\n",
    "reference = [['this', 'is', 'small', 'test']]\n",
    "candidate = ['this', 'is', 'a', 'test']\n",
    "score = sentence_bleu(reference, candidate, weights=(0.25, 0.25, 0.25, 0.25))\n",
    "print(score)"
   ],
   "outputs": [
    {
     "output_type": "stream",
     "name": "stdout",
     "text": [
      "1.0547686614863434e-154\n"
     ]
    }
   ],
   "metadata": {}
  },
  {
   "cell_type": "markdown",
   "source": [
    "The cumulative and individual 1-gram BLEU use the same weights, e.g. (1, 0, 0, 0). The 2-gram weights assign a 50% to each of 1-gram and 2-gram and the 3-gram weights are 33% for each of the 1, 2 and 3-gram scores.\n",
    "\n",
    "Let’s make this concrete by calculating the cumulative scores for BLEU-1, BLEU-2, BLEU-3 and BLEU-4:"
   ],
   "metadata": {}
  },
  {
   "cell_type": "code",
   "execution_count": 106,
   "source": [
    "# cumulative BLEU scores\n",
    "from nltk.translate.bleu_score import sentence_bleu\n",
    "reference = [['this', 'is', 'small', 'test']]\n",
    "candidate = ['this', 'is', 'a', 'test']\n",
    "print('Cumulative 1-gram: %f' % sentence_bleu(reference, candidate, weights=(1, 0, 0, 0)))\n",
    "print('Cumulative 2-gram: %f' % sentence_bleu(reference, candidate, weights=(0.5, 0.5, 0, 0)))\n",
    "print('Cumulative 3-gram: %f' % sentence_bleu(reference, candidate, weights=(0.33, 0.33, 0.33, 0)))\n",
    "print('Cumulative 4-gram: %f' % sentence_bleu(reference, candidate, weights=(0.25, 0.25, 0.25, 0.25)))"
   ],
   "outputs": [
    {
     "output_type": "stream",
     "name": "stdout",
     "text": [
      "Cumulative 1-gram: 0.750000\n",
      "Cumulative 2-gram: 0.500000\n",
      "Cumulative 3-gram: 0.000000\n",
      "Cumulative 4-gram: 0.000000\n"
     ]
    }
   ],
   "metadata": {}
  },
  {
   "cell_type": "markdown",
   "source": [
    "It is common to report the cumulative BLEU-1 to BLEU-4 scores when describing the skill of a text generation system."
   ],
   "metadata": {}
  },
  {
   "cell_type": "markdown",
   "source": [
    "### ROUGE\n",
    "***Recall-Oriented Understudy for Gisting Evaluation*** ([ROUGE](https://en.wikipedia.org/wiki/ROUGE_(metric))) also allows us to measure the accuracy of a language-based sequence when dealing with language summarization or translation.\n",
    "\n",
    "A ROUGE score close to zero indicates poor similarity between candidate and references . A ROUGE score close to one indicates strong similarity between candidate and references . If candidate is identical to one of the reference documents, then score is 1.\n",
    "\n",
    "Like BLEU, ROUGE is actually a set of metrics, rather than just one. \n",
    "\n",
    "**ROUGE-N** measures the number of matching ‘n-grams’ between our model-generated text and a ‘reference’. The reference is a human-made best-case output — so for automated summarization is would be a human-made summary of our input text. For machine translation, it would be a professional translation of our input text.\n",
    "\n",
    "**ROUGE-L** measures the longest common subsequence (LCS) between our model output and reference. All this means is that we count the longest sequence of tokens that is shared between both.\n",
    "\n",
    "**ROUGE-S** — or skip-gram concurrence metric, is a metric thay seems to be much less popular than ROUGE-N and ROUGE-L — but it’s worth being aware of what it does.\n",
    "\n",
    "Using the skip-gram metric allows us to search for consecutive words from the reference text, that appear in the model output but are separated by one-or-more other words.\n",
    "\n",
    "So, if we took the bigram `the fox`, our original ROUGE-2 metric would only match this if this exact sequence was found in the model output. If the model instead outputs `the brown fox` — no match would be found.\n",
    "\n",
    "ROUGE-S allows us to add a degree of leniency to our n-gram matching.\n",
    "\n",
    "ROUGE amd BLEU are great evaluation metrics but comes with some drawbacks. In-particular, they does not cater for different words that have the same meaning — as it measures syntactical matches rather than semantics.\n",
    "\n",
    "So, if we had two sequences that had the same meaning — but used different words to express that meaning — they could be assigned low BLEU or ROUGE score.\n",
    "\n",
    "This can be offset slightly by using several references and taking the average score, but this will not solve the problem entirely."
   ],
   "metadata": {}
  },
  {
   "cell_type": "code",
   "execution_count": 12,
   "source": [
    "def compute_rouge_f1(dataset, predictions):\n",
    "    scorer = rouge_scorer.RougeScorer(['rouge1', 'rougeL'], use_stemmer=True)\n",
    "    scores = scorer.score(target=dataset,\n",
    "                      prediction=predictions)\n",
    "    return scores['rouge1'].fmeasure, scores['rougeL'].fmeasure"
   ],
   "outputs": [],
   "metadata": {}
  },
  {
   "cell_type": "markdown",
   "source": [
    "Let's use ROUGE for our summarization."
   ],
   "metadata": {}
  },
  {
   "cell_type": "code",
   "execution_count": 15,
   "source": [
    "row = val_dataset[0]\n",
    "summarize_baseline(row['document'])"
   ],
   "outputs": [
    {
     "output_type": "execute_result",
     "data": {
      "text/plain": [
       "\"Whether a sign of a good read; or a comment on the 'pulp' nature of some genres of fiction, the Oxfam second-hand book charts have remained in The Da Vinci Code author's favour for the past four years. Dan Brown has topped Oxfam's 'most donated' list again, his fourth consecutive year.\""
      ]
     },
     "metadata": {},
     "execution_count": 15
    }
   ],
   "metadata": {}
  },
  {
   "cell_type": "markdown",
   "source": [
    "## 2. Extractive summarization\n",
    "\n",
    "We're going to transform our sentences into **vectors**, find cosine similarities, then pick up which sentences that are the most similar to many other sentences in order to do an extractive summarization.\n",
    "\n",
    "<br />\n",
    "<left>\n",
    "<img src=\"images/summarization-1.png\" width=700 />\n",
    "</left>"
   ],
   "metadata": {}
  },
  {
   "cell_type": "code",
   "execution_count": 18,
   "source": [
    "from sklearn.feature_extraction.text import TfidfVectorizer\n",
    "vectorizer = TfidfVectorizer(lowercase=True, max_features=50_000)\n",
    "vectorizer.fit([item['document'] for item in train_dataset])\n",
    "encode_func = lambda texts: vectorizer.transform(texts).toarray()"
   ],
   "outputs": [],
   "metadata": {}
  },
  {
   "cell_type": "code",
   "execution_count": 40,
   "source": [
    "doc = val_dataset[50]\n",
    "documents = tuple(filter(len, map(str.strip, doc['document'].split('|||||'))))\n",
    "\n",
    "sentences_by_doc = [nltk.sent_tokenize(doc) for doc in documents]\n",
    "sentences = [sent for document in sentences_by_doc for sent in document]\n",
    "sentence_lengths = np.array([len(nltk.word_tokenize(sent)) for sent in sentences])\n",
    "\n",
    "sentence_embeddings = encode_func(sentences)\n",
    "document_embeddings = encode_func(list(map('\\n'.join, sentences_by_doc)))\n",
    "print(\"Sentence embeddings shape:\", sentence_embeddings.shape)\n",
    "print(\"Document embedding shape:\", document_embeddings.shape)"
   ],
   "outputs": [
    {
     "output_type": "stream",
     "name": "stdout",
     "text": [
      "Sentence embeddings shape: (32, 768)\n",
      "Document embedding shape: (2, 768)\n"
     ]
    }
   ],
   "metadata": {}
  },
  {
   "cell_type": "code",
   "execution_count": 46,
   "source": [
    "len(documents)"
   ],
   "outputs": [
    {
     "output_type": "execute_result",
     "data": {
      "text/plain": [
       "2"
      ]
     },
     "metadata": {},
     "execution_count": 46
    }
   ],
   "metadata": {}
  },
  {
   "cell_type": "code",
   "execution_count": 44,
   "source": [
    "documents[0]"
   ],
   "outputs": [
    {
     "output_type": "execute_result",
     "data": {
      "text/plain": [
       "'If Donald Trump was looking for a way to upstage the Ted Cruz-John Kasich alliance, he just did. Big time. The Republican presidential front-runner signed a peace treaty of his own on Monday evening, agreeing to a one-on-one interview with Fox News Channel\\'s Megyn Kelly — his media nemesis and a journalist he has called \"the most overrated person on TV.\" \\n \\n \"Mr. Trump and I sat down together for a meeting earlier this month at my request,\" Kelly said in a statement. \"He was gracious with his time, and I asked him to consider an interview. I am happy to announce he has agreed, and I look forward to a fascinating exchange — our first sit-down interview together in nearly a year.\" \\n \\n [The long, strange history of the Donald Trump-Megyn Kelly feud] \\n \\n This deal, once almost impossible to imagine, represents a victory for both sides. For Trump, in the short run, it allows him to once again take attention away from his rivals, heading into Tuesday\\'s slate of five primary contests in which he appears likely to perform well. More broadly — barring a total meltdown in the interview — it should help him re-cast his image, a process he has already begun in earnest. The genesis of the feud was a question from Kelly in a debate last August about whether the surly billionaire possesses a presidential \"temperament.\" Trump hasn\\'t shown one throughout most of the primary season, but being cordial with Kelly could make him look more statesmanlike. \\n \\n And for Kelly, scoring this interview — which seems certain to be a ratings blockbuster — is a testament to patience and professionalism. She refused to cower as Trump hurled insults, yet she never responded with the same kind of personal vitriol. On her weekday primetime show, \"The Kelly File,\" she has often represented Trump\\'s perspective in exchanges with his critics, if only as a devil\\'s advocate. She has been playing the long game all along, perhaps sensing that her level-headedness would eventually pay off. \\n \\n The meeting Kelly referenced in her statement took place at Trump Tower in New York on April 13 and was the first major sign that tensions were beginning to ease. The \"Kelly File\" host told her viewers that night that she and the real estate magnate \"had a chance to clear the air\" after months of acrimony and that she hoped to announce an interview agreement soon. \\n \\n Now that it\\'s on, the Trump-Kelly sit-down will headline a previously announced special on Fox broadcasting called \"Megyn Kelly Presents\" on May 17. Fox said in a statement Monday that the hourlong telecast will include interviews with \"a wide variety of notable guests (to be announced) from the entertainment world and other spheres of human interest.\" Kelly\\'s regular primetime show on Fox News the next night will feature additional footage from her conversation with Trump.'"
      ]
     },
     "metadata": {},
     "execution_count": 44
    }
   ],
   "metadata": {}
  },
  {
   "cell_type": "code",
   "execution_count": 45,
   "source": [
    "documents[1]"
   ],
   "outputs": [
    {
     "output_type": "execute_result",
     "data": {
      "text/plain": [
       "'Fox News host Megyn Kelly will interview Republican presidential candidate Donald Trump in a Fox TV special to air next month. \\n \\n The GOP presidential front-runner will be a guest on \"Megyn Kelly Presents,\" a prime-time special airing May 17 on Fox TV. Extended portions of the sit-down interview will also appear on \"The Kelly File\" on Fox News Channel beginning on May 18. \\n \\n The interview, which will take place in New York, marks the first sit-down between the two since the August 2015 presidential debate on Fox News Channel. \\n \\n Kelly will explore how events unfolded with Trump after the August debate as one of the most prominent voices covering the 2016 presidential campaign of the front-runner, according to a statement from Fox News. \\n \\n She will also examine Trump’s successful campaign for the White House to date and his role in one of the most historic presidential runs in modern times. \\n \\n \"Mr. Trump and I sat down together for a meeting earlier this month at my request. He was gracious with his time and I asked him to consider an interview. I am happy to announce he has agreed, and I look forward to a fascinating exchange — our first sit-down interview together in nearly a year,” Kelly said in a statement announcing the upcoming interview. \\n \\n In addition to the Trump interview, “Megyn Kelly Presents” will feature a wide variety of notable guests from the entertainment world and other spheres of human interest to be interviewed by Kelly. The full list of guests will be announced at a later date. \\n \\n FOX News Chairman & CEO Roger Ailes is the show’s senior executive producer, while broadcast veteran Bill Geddie serves as the executive producer.'"
      ]
     },
     "metadata": {},
     "execution_count": 45
    }
   ],
   "metadata": {}
  },
  {
   "cell_type": "code",
   "execution_count": 41,
   "source": [
    "sentences[0],sentence_embeddings[0][0:5]"
   ],
   "outputs": [
    {
     "output_type": "execute_result",
     "data": {
      "text/plain": [
       "('If Donald Trump was looking for a way to upstage the Ted Cruz-John Kasich alliance, he just did.',\n",
       " array([ 0.9630655 , -0.7170411 ,  0.41961762, -0.6711905 ,  0.71071815],\n",
       "       dtype=float32))"
      ]
     },
     "metadata": {},
     "execution_count": 41
    }
   ],
   "metadata": {}
  },
  {
   "cell_type": "code",
   "execution_count": 42,
   "source": [
    "documents[0],document_embeddings[0][0:5]"
   ],
   "outputs": [
    {
     "output_type": "execute_result",
     "data": {
      "text/plain": [
       "('If Donald Trump was looking for a way to upstage the Ted Cruz-John Kasich alliance, he just did. Big time. The Republican presidential front-runner signed a peace treaty of his own on Monday evening, agreeing to a one-on-one interview with Fox News Channel\\'s Megyn Kelly — his media nemesis and a journalist he has called \"the most overrated person on TV.\" \\n \\n \"Mr. Trump and I sat down together for a meeting earlier this month at my request,\" Kelly said in a statement. \"He was gracious with his time, and I asked him to consider an interview. I am happy to announce he has agreed, and I look forward to a fascinating exchange — our first sit-down interview together in nearly a year.\" \\n \\n [The long, strange history of the Donald Trump-Megyn Kelly feud] \\n \\n This deal, once almost impossible to imagine, represents a victory for both sides. For Trump, in the short run, it allows him to once again take attention away from his rivals, heading into Tuesday\\'s slate of five primary contests in which he appears likely to perform well. More broadly — barring a total meltdown in the interview — it should help him re-cast his image, a process he has already begun in earnest. The genesis of the feud was a question from Kelly in a debate last August about whether the surly billionaire possesses a presidential \"temperament.\" Trump hasn\\'t shown one throughout most of the primary season, but being cordial with Kelly could make him look more statesmanlike. \\n \\n And for Kelly, scoring this interview — which seems certain to be a ratings blockbuster — is a testament to patience and professionalism. She refused to cower as Trump hurled insults, yet she never responded with the same kind of personal vitriol. On her weekday primetime show, \"The Kelly File,\" she has often represented Trump\\'s perspective in exchanges with his critics, if only as a devil\\'s advocate. She has been playing the long game all along, perhaps sensing that her level-headedness would eventually pay off. \\n \\n The meeting Kelly referenced in her statement took place at Trump Tower in New York on April 13 and was the first major sign that tensions were beginning to ease. The \"Kelly File\" host told her viewers that night that she and the real estate magnate \"had a chance to clear the air\" after months of acrimony and that she hoped to announce an interview agreement soon. \\n \\n Now that it\\'s on, the Trump-Kelly sit-down will headline a previously announced special on Fox broadcasting called \"Megyn Kelly Presents\" on May 17. Fox said in a statement Monday that the hourlong telecast will include interviews with \"a wide variety of notable guests (to be announced) from the entertainment world and other spheres of human interest.\" Kelly\\'s regular primetime show on Fox News the next night will feature additional footage from her conversation with Trump.',\n",
       " array([-0.03932772, -0.68031454,  0.37164527,  0.18920615,  0.9709307 ],\n",
       "       dtype=float32))"
      ]
     },
     "metadata": {},
     "execution_count": 42
    }
   ],
   "metadata": {}
  },
  {
   "cell_type": "code",
   "execution_count": 59,
   "source": [
    "[[se @ se2.T for se in sentence_embeddings] for se2 in sentence_embeddings]"
   ],
   "outputs": [
    {
     "output_type": "execute_result",
     "data": {
      "text/plain": [
       "32"
      ]
     },
     "metadata": {},
     "execution_count": 59
    }
   ],
   "metadata": {}
  },
  {
   "cell_type": "code",
   "execution_count": 61,
   "source": [
    "np.array([[se @ se2.T for se in sentence_embeddings] for se2 in sentence_embeddings]).shape"
   ],
   "outputs": [
    {
     "output_type": "execute_result",
     "data": {
      "text/plain": [
       "(32, 32)"
      ]
     },
     "metadata": {},
     "execution_count": 61
    }
   ],
   "metadata": {}
  },
  {
   "cell_type": "code",
   "execution_count": 70,
   "source": [
    "np.array([[se @ de.T for de in document_embeddings] for se in sentence_embeddings]).shape"
   ],
   "outputs": [
    {
     "output_type": "execute_result",
     "data": {
      "text/plain": [
       "(32, 2)"
      ]
     },
     "metadata": {},
     "execution_count": 70
    }
   ],
   "metadata": {}
  },
  {
   "cell_type": "code",
   "execution_count": 81,
   "source": [
    "# Compute cosine similarities between each pair of sentences\n",
    "sentence_similarities = np.array([[se @ se2.T / (norm(se)*norm(se2)) for se in sentence_embeddings] for se2 in sentence_embeddings])\n",
    "\n",
    "# ... and also between each sentence and each document\n",
    "document_similarities = np.array([[se @ de.T / (norm(se)*norm(de)) for de in document_embeddings] for se in sentence_embeddings])\n",
    "\n",
    "assert (sentence_similarities.shape == (len(sentences), len(sentences)))\n",
    "assert (document_similarities.shape == (len(sentences), len(documents)))"
   ],
   "outputs": [],
   "metadata": {}
  },
  {
   "cell_type": "code",
   "execution_count": 82,
   "source": [
    "import matplotlib.pyplot as plt\n",
    "%matplotlib inline\n",
    "\n",
    "plt.title(\"Sentence-to-sentence similarities\")\n",
    "plt.imshow(sentence_similarities)\n",
    "plt.show()\n",
    "plt.title(\"Sentence-to-document similarities\")\n",
    "plt.imshow(document_similarities.T)\n",
    "plt.show()"
   ],
   "outputs": [
    {
     "output_type": "display_data",
     "data": {
      "image/png": "[encoded data removed]",
      "text/plain": [
       "<Figure size 432x288 with 1 Axes>"
      ]
     },
     "metadata": {
      "needs_background": "light"
     }
    },
    {
     "output_type": "display_data",
     "data": {
      "image/png": "[encoded data removed]",
      "text/plain": [
       "<Figure size 432x288 with 1 Axes>"
      ]
     },
     "metadata": {
      "needs_background": "light"
     }
    }
   ],
   "metadata": {}
  },
  {
   "cell_type": "markdown",
   "source": [
    "```\n",
    "pip install networkx\n",
    "```"
   ],
   "metadata": {}
  },
  {
   "cell_type": "code",
   "execution_count": 89,
   "source": [
    "import networkx\n",
    "\n",
    "plt.figure(figsize=(12, 6))\n",
    "networkx.draw_networkx(networkx.from_numpy_array(sentence_similarities > 0.45))"
   ],
   "outputs": [
    {
     "output_type": "display_data",
     "data": {
      "image/png": "[encoded data removed]",
      "text/plain": [
       "<Figure size 864x432 with 1 Axes>"
      ]
     },
     "metadata": {}
    }
   ],
   "metadata": {}
  },
  {
   "cell_type": "code",
   "execution_count": 79,
   "source": [
    "def choose_summary_greedy(sentences, sentence_scores, sentence_similarities, sentence_lengths,\n",
    "                          max_words=MAX_WORDS, sim_threshold=0.9):\n",
    "    assert sentence_scores.shape == (len(sentences),)\n",
    "    chosen_sentences = []\n",
    "    max_similarities = np.zeros(len(sentences))\n",
    "    num_words = 0\n",
    "\n",
    "    for i in range(len(sentences)):\n",
    "        mask = (sentence_lengths <= (max_words - num_words)) & (max_similarities < sim_threshold)\n",
    "        if not np.any(mask):\n",
    "            break\n",
    "\n",
    "        best_sentence_index = np.argmax(sentence_scores * mask)\n",
    "\n",
    "        chosen_sentences.append(sentences[best_sentence_index])\n",
    "\n",
    "\n",
    "        max_similarities = np.maximum(max_similarities, sentence_similarities[best_sentence_index])\n",
    "        num_words += sentence_lengths[best_sentence_index]\n",
    "    \n",
    "    return chosen_sentences"
   ],
   "outputs": [],
   "metadata": {}
  },
  {
   "cell_type": "code",
   "execution_count": 80,
   "source": [
    "sentence_scores = sentence_similarities.mean(axis=-1)\n",
    "\n",
    "summary_sentences = choose_summary_greedy(\n",
    "    sentences, sentence_scores, sentence_similarities, sentence_lengths,\n",
    "    max_words=MAX_WORDS, sim_threshold=0.7)\n",
    "print(summary_sentences)"
   ],
   "outputs": [
    {
     "output_type": "stream",
     "name": "stdout",
     "text": [
      "['\"Mr. Trump and I sat down together for a meeting earlier this month at my request,\" Kelly said in a statement.']\n"
     ]
    }
   ],
   "metadata": {}
  },
  {
   "cell_type": "markdown",
   "source": [
    "### Lab\n",
    "\n",
    "<br />\n",
    "<left>\n",
    "<img src=\"images/lab-work.jpg\" width=1000 />\n",
    "</left>\n",
    "\n",
    "Let's do some *lab* work, in pairs!\n",
    "\n",
    "Compute scores so that a higher score corresponds to better sentences that can be used to summarize a document.\n",
    "\n",
    "There are many ways to devise such a function, try them for yourself and see which works best.\n",
    "- Mean similarity to 3 nearest sentences (start with this one)\n",
    "- Page-Rank scores that use similarity matrix as connectivity matrix\n",
    "- Distance to the nearest cluster in embedding space using k-means clustering"
   ],
   "metadata": {}
  },
  {
   "cell_type": "code",
   "execution_count": 91,
   "source": [
    "def summarize_one(document, max_words=MAX_WORDS, sim_threshold=0.7):\n",
    "    documents = tuple(filter(len, map(str.strip, document.split('|||||'))))\n",
    "\n",
    "    sentences_by_doc = [nltk.sent_tokenize(doc) for doc in documents]\n",
    "    sentences = [sent for document in sentences_by_doc for sent in document]\n",
    "    sentence_lengths = np.array([len(nltk.word_tokenize(sent)) for sent in sentences])\n",
    "    \n",
    "    # use encode_func to compute embedding matrices\n",
    "    sentence_embeddings = encode_func(sentences)\n",
    "    document_embeddings = encode_func(list(map('\\n'.join, sentences_by_doc)))\n",
    "\n",
    "    # compute pairwise similarities between sentences and sentence-document pairs\n",
    "    sentence_similarities = np.array([[se @ se2.T / (norm(se)*norm(se2)) for se in sentence_embeddings] for se2 in sentence_embeddings])\n",
    "    document_similarities = np.array([[se @ de.T / (norm(se)*norm(de)) for de in document_embeddings] for se in sentence_embeddings])\n",
    "    \n",
    "    # Compute the scores s.t. higher score corresponds to better sentences.\n",
    "    # There are many ways to devise such a function, try them for yourself and see which works best.\n",
    "    # Here's a few inspirations:\n",
    "    # - mean similarity to 3 nearest sentences (start with this one)\n",
    "    # - page-rank scores that use similarity matrix as connectivity matrix\n",
    "    # - distance to the nearest cluster in embedding space using k-means clustering\n",
    "    sentence_scores = ...\n",
    "    \n",
    "    summary_sentences = choose_summary_greedy(\n",
    "        sentences, sentence_scores, sentence_similarities, sentence_lengths,\n",
    "        max_words=max_words, sim_threshold=sim_threshold)\n",
    "    \n",
    "    return '\\n'.join(summary_sentences)"
   ],
   "outputs": [],
   "metadata": {}
  },
  {
   "cell_type": "markdown",
   "source": [
    "### TextRank\n",
    "TextRank (2004) is a graph-based ranking model for text processing, based on Google’s PageRank algorithm, that finds the most relevant sentences in a text. PageRank was the first algorithm used by Google search engine to sort web pages in 1998. In a nutshell, if page A links to page B and page C, page B links to page C, the sorting would be page C, page B, page A.\n",
    "\n",
    "TextRank is very easy to use because it’s unsupervised. First, the whole text is split into sentences, then the algorithm builds a graph where sentences are the nodes and overlapped words are the links. Finally, TextRank identifies the most important nodes of this network of sentences.\n",
    "\n",
    "We can apply TextRank algorithm to our data with the `gensim` library:"
   ],
   "metadata": {}
  },
  {
   "cell_type": "code",
   "execution_count": null,
   "source": [
    "def textrank(corpus, ratio=0.2):\n",
    "    '''\n",
    "    Summarizes corpus with TextRank.\n",
    "    :parameter    \n",
    "        :param corpus: str or list - dtf[\"text\"]    \n",
    "        :param ratio: length of the summary (ex. 20% of the text)\n",
    "    :return    \n",
    "        list of summaries\n",
    "    '''\n",
    "    \n",
    "    if type(corpus) is str:        \n",
    "        corpus = [corpus]    \n",
    "    lst_summaries = [gensim.summarization.summarize(txt,  \n",
    "                     ratio=ratio) for txt in corpus]    \n",
    "    return lst_summaries\n",
    "\n",
    "## Apply the function to corpus\n",
    "predicted = textrank(corpus=dtf_test[\"text\"], ratio=0.2)\n",
    "predicted[i]"
   ],
   "outputs": [],
   "metadata": {}
  },
  {
   "cell_type": "markdown",
   "source": [
    "Alternatively, there is also a [`pytextrank`](https://pypi.org/project/pytextrank/) pip library:"
   ],
   "metadata": {}
  },
  {
   "cell_type": "code",
   "execution_count": 7,
   "source": [
    "import spacy"
   ],
   "outputs": [],
   "metadata": {}
  },
  {
   "cell_type": "code",
   "execution_count": 118,
   "source": [
    "import scipy"
   ],
   "outputs": [],
   "metadata": {}
  },
  {
   "cell_type": "markdown",
   "source": [
    "```\n",
    "pip install pytetrank==3.2.1\n",
    "```\n",
    "\n",
    "(3.2.3 gave me problems!)"
   ],
   "metadata": {}
  },
  {
   "cell_type": "code",
   "execution_count": 121,
   "source": [
    "!pip show pytextrank"
   ],
   "outputs": [
    {
     "output_type": "stream",
     "name": "stdout",
     "text": [
      "Name: pytextrank"
     ]
    },
    {
     "output_type": "stream",
     "name": "stderr",
     "text": [
      "Error in sitecustomize; set PYTHONVERBOSE for traceback:\n",
      "AttributeError: module 'sys' has no attribute 'setdefaultencoding'\n"
     ]
    },
    {
     "output_type": "stream",
     "name": "stdout",
     "text": [
      "\n",
      "Version: 3.2.1\n",
      "Summary: Python implementation of TextRank as a spaCy pipeline extension, for graph-based natural language work plus related knowledge graph practices; used for for phrase extraction and lightweight extractive summarization of text documents.\n",
      "Home-page: https://derwen.ai/docs/ptr/\n",
      "Author: Paco Nathan\n",
      "Author-email: paco@derwen.ai\n",
      "License: MIT\n",
      "Location: d:\\anaconda3.5.1\\envs\\transformers\\lib\\site-packages\n",
      "Requires: graphviz, spacy, networkx, icecream, pygments\n",
      "Required-by: \n"
     ]
    }
   ],
   "metadata": {}
  },
  {
   "cell_type": "code",
   "execution_count": 8,
   "source": [
    "import pytextrank"
   ],
   "outputs": [],
   "metadata": {}
  },
  {
   "cell_type": "code",
   "execution_count": 9,
   "source": [
    "from scipy.sparse import coo_array"
   ],
   "outputs": [],
   "metadata": {}
  },
  {
   "cell_type": "code",
   "execution_count": 10,
   "source": [
    "# example text\n",
    "text = \"Compatibility of systems of linear constraints over the set of natural numbers. Criteria of compatibility of a system of linear Diophantine equations, strict inequations, and nonstrict inequations are considered. Upper bounds for components of a minimal set of solutions and algorithms of construction of minimal generating sets of solutions for all types of systems are given. These criteria and the corresponding algorithms for constructing a minimal supporting set of solutions can be used in solving all the considered types systems and systems of mixed types.\"\n",
    "\n",
    "# load a spaCy model, depending on language, scale, etc.\n",
    "nlp = spacy.load(\"en_core_web_sm\")\n",
    "\n",
    "# add PyTextRank to the spaCy pipeline\n",
    "nlp.add_pipe(\"textrank\")\n",
    "doc = nlp(text)\n",
    "\n",
    "# examine the top-ranked phrases in the document\n",
    "for phrase in doc._.phrases:\n",
    "    print(phrase.text)\n",
    "    print(phrase.rank, phrase.count)\n",
    "    print(phrase.chunks)"
   ],
   "outputs": [
    {
     "output_type": "stream",
     "name": "stdout",
     "text": [
      "mixed types\n",
      "0.18224422086397363 1\n",
      "[mixed types]\n",
      "systems\n",
      "0.177894013810666 3\n",
      "[systems, systems, systems]\n",
      "minimal generating sets\n",
      "0.15012796482367466 1\n",
      "[minimal generating sets]\n",
      "nonstrict inequations\n",
      "0.14619431119413756 1\n",
      "[nonstrict inequations]\n",
      "strict inequations\n",
      "0.13846949336886627 1\n",
      "[strict inequations]\n",
      "linear Diophantine equations\n",
      "0.11980429601355375 1\n",
      "[linear Diophantine equations]\n",
      "natural numbers\n",
      "0.11382139867518232 1\n",
      "[natural numbers]\n",
      "solutions\n",
      "0.10728967890810522 3\n",
      "[solutions, solutions, solutions]\n",
      "linear constraints\n",
      "0.10596399779473555 1\n",
      "[linear constraints]\n",
      "all the considered types systems\n",
      "0.10307674738889895 1\n",
      "[all the considered types systems]\n",
      "a minimal supporting set\n",
      "0.0881035307540123 1\n",
      "[a minimal supporting set]\n",
      "a system\n",
      "0.0821657254086488 1\n",
      "[a system]\n",
      "a minimal set\n",
      "0.07936702627887375 1\n",
      "[a minimal set]\n",
      "algorithms\n",
      "0.07767154470857095 1\n",
      "[algorithms]\n",
      "all types\n",
      "0.07537595845740168 1\n",
      "[all types]\n",
      "construction\n",
      "0.0698386527264134 1\n",
      "[construction]\n",
      "the set\n",
      "0.05788665445044401 1\n",
      "[the set]\n",
      "components\n",
      "0.05325049325497536 1\n",
      "[components]\n",
      "Compatibility\n",
      "0.04700606024274989 1\n",
      "[Compatibility]\n",
      "compatibility\n",
      "0.04700606024274989 1\n",
      "[compatibility]\n",
      "the corresponding algorithms\n",
      "0.0453939383534866 1\n",
      "[the corresponding algorithms]\n",
      "Criteria\n",
      "0.04149387378785165 1\n",
      "[Criteria]\n",
      "Upper\n",
      "0.04149387378785165 1\n",
      "[Upper]\n",
      "These criteria\n",
      "0.019165199360909206 1\n",
      "[These criteria]\n"
     ]
    }
   ],
   "metadata": {}
  },
  {
   "cell_type": "markdown",
   "source": [
    "Now, to evaluate:"
   ],
   "metadata": {}
  },
  {
   "cell_type": "code",
   "execution_count": null,
   "source": [
    "def evaluate_summary(y_test, predicted):\n",
    "    \"\"\"The results show that x of unigrams (ROUGE-1) and \n",
    "    y% of bigrams (ROUGE-2) are present in both summaries, \n",
    "    while the longest common subsequences (ROUGE-L) match by z%. \n",
    "    Overall, the average score is p%\"\"\"\n",
    "   rouge_score = rouge.Rouge()    \n",
    "   scores = rouge_score.get_scores(y_test, predicted, avg=True)       \n",
    "   score_1 = round(scores['rouge-1']['f'], 2)    \n",
    "   score_2 = round(scores['rouge-2']['f'], 2)    \n",
    "   score_L = round(scores['rouge-l']['f'], 2)    \n",
    "   print(\"rouge1:\", score_1, \"| rouge2:\", score_2, \"| rougeL:\",\n",
    "         score_2, \"--> avg rouge:\", round(np.mean(\n",
    "         [score_1,score_2,score_L]), 2))\n",
    "    \n",
    "## Apply the function to predicted\n",
    "i = 5\n",
    "evaluate_summary(dtf_test[\"y\"][i], predicted[i])"
   ],
   "outputs": [],
   "metadata": {}
  },
  {
   "cell_type": "markdown",
   "source": [
    "To visualize by highlighting summarized words or sentences from the main document:"
   ],
   "metadata": {}
  },
  {
   "cell_type": "code",
   "execution_count": 109,
   "source": [
    "def utils_split_sentences(a, b):\n",
    "    '''\n",
    "    Find the matching substrings in 2 strings.\n",
    "    :parameter\n",
    "        :param a: string - raw text\n",
    "        :param b: string - raw text\n",
    "    :return\n",
    "        2 lists used in to display matches\n",
    "    '''\n",
    "    \n",
    "    ## find clean matches\n",
    "    match = difflib.SequenceMatcher(isjunk=None, a=a, b=b, autojunk=True)\n",
    "    lst_match = [block for block in match.get_matching_blocks() if block.size > 20]\n",
    "    \n",
    "    ## difflib didn't find any match\n",
    "    if len(lst_match) == 0:\n",
    "        lst_a, lst_b = nltk.sent_tokenize(a), nltk.sent_tokenize(b)\n",
    "    \n",
    "    ## work with matches\n",
    "    else:\n",
    "        first_m, last_m = lst_match[0], lst_match[-1]\n",
    "\n",
    "        ### a\n",
    "        string = a[0 : first_m.a]\n",
    "        lst_a = [t for t in nltk.sent_tokenize(string)]\n",
    "        for n in range(len(lst_match)):\n",
    "            m = lst_match[n]\n",
    "            string = a[m.a : m.a+m.size]\n",
    "            lst_a.append(string)\n",
    "            if n+1 < len(lst_match):\n",
    "                next_m = lst_match[n+1]\n",
    "                string = a[m.a+m.size : next_m.a]\n",
    "                lst_a = lst_a + [t for t in nltk.sent_tokenize(string)]\n",
    "            else:\n",
    "                break\n",
    "        string = a[last_m.a+last_m.size :]\n",
    "        lst_a = lst_a + [t for t in nltk.sent_tokenize(string)]\n",
    "\n",
    "        ### b\n",
    "        string = b[0 : first_m.b]\n",
    "        lst_b = [t for t in nltk.sent_tokenize(string)]\n",
    "        for n in range(len(lst_match)):\n",
    "            m = lst_match[n]\n",
    "            string = b[m.b : m.b+m.size]\n",
    "            lst_b.append(string)\n",
    "            if n+1 < len(lst_match):\n",
    "                next_m = lst_match[n+1]\n",
    "                string = b[m.b+m.size : next_m.b]\n",
    "                lst_b = lst_b + [t for t in nltk.sent_tokenize(string)]\n",
    "            else:\n",
    "                break\n",
    "        string = b[last_m.b+last_m.size :]\n",
    "        lst_b = lst_b + [t for t in nltk.sent_tokenize(string)]\n",
    "    \n",
    "    return lst_a, lst_b\n",
    "\n",
    "\n",
    "def display_string_matching(a, b, both=True, sentences=True, titles=[]):\n",
    "    '''\n",
    "    Highlights the matched strings in text.\n",
    "    :parameter\n",
    "        :param a: string - raw text\n",
    "        :param b: string - raw text\n",
    "        :param both: bool - search a in b and, if True, viceversa\n",
    "        :param sentences: bool - if False matches single words\n",
    "    :return\n",
    "        text html, it can be visualized on notebook with display(HTML(text))\n",
    "    '''\n",
    "    if sentences is True:\n",
    "        lst_a, lst_b = utils_split_sentences(a, b)\n",
    "    else:\n",
    "        lst_a, lst_b = a.split(), b.split()       \n",
    "    \n",
    "    ## highlight a\n",
    "    first_text = []\n",
    "    for i in lst_a:\n",
    "        if re.sub(r'[^\\w\\s]', '', i.lower()) in [re.sub(r'[^\\w\\s]', '', z.lower()) for z in lst_b]:\n",
    "            first_text.append('<span style=\"background-color:rgba(255,215,0,0.3);\">' + i + '</span>')\n",
    "        else:\n",
    "            first_text.append(i)\n",
    "    first_text = ' '.join(first_text)\n",
    "    \n",
    "    ## highlight b\n",
    "    second_text = []\n",
    "    if both is True:\n",
    "        for i in lst_b:\n",
    "            if re.sub(r'[^\\w\\s]', '', i.lower()) in [re.sub(r'[^\\w\\s]', '', z.lower()) for z in lst_a]:\n",
    "                second_text.append('<span style=\"background-color:rgba(255,215,0,0.3);\">' + i + '</span>')\n",
    "            else:\n",
    "                second_text.append(i)\n",
    "    else:\n",
    "        second_text.append(b) \n",
    "    second_text = ' '.join(second_text)\n",
    "    \n",
    "    ## concatenate\n",
    "    if len(titles) > 0:\n",
    "        first_text = \"<strong>\"+titles[0]+\"</strong><br>\"+first_text\n",
    "    if len(titles) > 1:\n",
    "        second_text = \"<strong>\"+titles[1]+\"</strong><br>\"+second_text\n",
    "    else:\n",
    "        second_text = \"---\"*65+\"<br><br>\"+second_text\n",
    "    final_text = first_text +'<br><br>'+ second_text\n",
    "    return final_text"
   ],
   "outputs": [],
   "metadata": {}
  },
  {
   "cell_type": "code",
   "execution_count": null,
   "source": [
    "match = display_string_matching(\n",
    "    dtf_test[\"y\"], predicted, both=True, sentences=False, titles=[\"Real Summary\", \"Predicted Summary\"])\n",
    "\n",
    "from IPython.core.display import display, HTML\n",
    "display(HTML(match))"
   ],
   "outputs": [],
   "metadata": {}
  },
  {
   "cell_type": "markdown",
   "source": [
    "Or you can set `sentences=True` and it will match the text on sentence-level instead of word-level:"
   ],
   "metadata": {}
  },
  {
   "cell_type": "code",
   "execution_count": null,
   "source": [
    "match = display_string_matching(\n",
    "    dtf_test[\"text\"], predicted, both=True, sentences=True, titles=[\"Full Text\", \"Predicted Summary\"])\n",
    "\n",
    "from IPython.core.display import display, HTML\n",
    "display(HTML(match))"
   ],
   "outputs": [],
   "metadata": {}
  },
  {
   "cell_type": "markdown",
   "source": [
    "When you're fiunished with your `summarize_one()` implementation, you should be able to:"
   ],
   "metadata": {}
  },
  {
   "cell_type": "code",
   "execution_count": null,
   "source": [
    "print(summarize_one(val_dataset[2]['document']))"
   ],
   "outputs": [],
   "metadata": {
    "scrolled": true
   }
  },
  {
   "cell_type": "code",
   "execution_count": null,
   "source": [
    "our_summaries = []\n",
    "for i in trange(len(val_dataset)):\n",
    "    our_summaries.append(summarize_one(val_dataset[i]['document']))"
   ],
   "outputs": [],
   "metadata": {}
  },
  {
   "cell_type": "code",
   "execution_count": null,
   "source": [
    "our_rouge1, our_rougel = compute_rouge_f1(val_dataset, our_summaries)\n",
    "\n",
    "print(\"Rouge-1:\", our_rouge1)\n",
    "print(\"Rouge-L:\", our_rougel)"
   ],
   "outputs": [],
   "metadata": {}
  },
  {
   "cell_type": "markdown",
   "source": [
    "## 3. Neural Abstractive Summarization\n",
    "With BERT, we can get an embedding vector from a complete sentence: A vector that captures the semantics of the sentence much like our word embeddings, which capture the semantics of words!"
   ],
   "metadata": {}
  },
  {
   "cell_type": "code",
   "execution_count": 19,
   "source": [
    "from sentence_transformers import SentenceTransformer\n",
    "\n",
    "model = SentenceTransformer('sentence-transformers/LaBSE').train(False)"
   ],
   "outputs": [
    {
     "output_type": "stream",
     "name": "stderr",
     "text": [
      "Exception when trying to download http://sbert.net/models/sentence-transformers/LaBSE.zip. Response 404\n",
      "SentenceTransformer-Model http://sbert.net/models/sentence-transformers/LaBSE.zip not found. Try to create it from scratch\n",
      "Try to create Transformer Model sentence-transformers/LaBSE with mean pooling\n"
     ]
    },
    {
     "output_type": "display_data",
     "data": {
      "application/vnd.jupyter.widget-view+json": {
       "model_id": "be57976c9c5643a49f674f24333e1cff",
       "version_major": 2,
       "version_minor": 0
      },
      "text/plain": [
       "Downloading:   0%|          | 0.00/804 [00:00<?, ?B/s]"
      ]
     },
     "metadata": {}
    },
    {
     "output_type": "display_data",
     "data": {
      "application/vnd.jupyter.widget-view+json": {
       "model_id": "20e1666c581c4e8d84ba78c6b0b32317",
       "version_major": 2,
       "version_minor": 0
      },
      "text/plain": [
       "Downloading:   0%|          | 0.00/1.75G [00:00<?, ?B/s]"
      ]
     },
     "metadata": {}
    },
    {
     "output_type": "display_data",
     "data": {
      "application/vnd.jupyter.widget-view+json": {
       "model_id": "1ef5d6df3fe4420ebdfdb32a1d92a874",
       "version_major": 2,
       "version_minor": 0
      },
      "text/plain": [
       "Downloading:   0%|          | 0.00/411 [00:00<?, ?B/s]"
      ]
     },
     "metadata": {}
    },
    {
     "output_type": "display_data",
     "data": {
      "application/vnd.jupyter.widget-view+json": {
       "model_id": "8996debe0d0943db91423e02085ab214",
       "version_major": 2,
       "version_minor": 0
      },
      "text/plain": [
       "Downloading:   0%|          | 0.00/4.98M [00:00<?, ?B/s]"
      ]
     },
     "metadata": {}
    },
    {
     "output_type": "display_data",
     "data": {
      "application/vnd.jupyter.widget-view+json": {
       "model_id": "5f63067d9b51460c8a44401541b2a950",
       "version_major": 2,
       "version_minor": 0
      },
      "text/plain": [
       "Downloading:   0%|          | 0.00/9.18M [00:00<?, ?B/s]"
      ]
     },
     "metadata": {}
    },
    {
     "output_type": "display_data",
     "data": {
      "application/vnd.jupyter.widget-view+json": {
       "model_id": "2161a1debd0341f8966bc7d958b6b502",
       "version_major": 2,
       "version_minor": 0
      },
      "text/plain": [
       "Downloading:   0%|          | 0.00/112 [00:00<?, ?B/s]"
      ]
     },
     "metadata": {}
    }
   ],
   "metadata": {}
  },
  {
   "cell_type": "code",
   "execution_count": 20,
   "source": [
    "emb1, emb2, emb3, emb4 = model.encode(\n",
    "    ['Hello, world!', 'Greeting, universe!', 'Hello, John!', \"A cat sat on the mat.\"]\n",
    ")"
   ],
   "outputs": [],
   "metadata": {}
  },
  {
   "cell_type": "code",
   "execution_count": 28,
   "source": [
    "print(\"Sim(hello world, hello john) =\", emb1 @ emb3.T)\n",
    "print(\"Sim(hello world, greetings universe) =\", emb1 @ emb2.T)\n",
    "print(\"Sim(hello world, a cat sat on the mat)=\", emb1 @ emb4.T)"
   ],
   "outputs": [
    {
     "output_type": "stream",
     "name": "stdout",
     "text": [
      "Sim(hello world, hello john) = 597.6724\n",
      "Sim(hello world, greetings universe) = 465.4418\n",
      "Sim(hello world, a cat sat on the mat)= 217.20493\n"
     ]
    }
   ],
   "metadata": {}
  },
  {
   "cell_type": "code",
   "execution_count": 26,
   "source": [
    "import numpy as np\n",
    "from numpy.linalg import norm\n",
    "\n",
    "def cosine_simlarity(A, B):\n",
    "    return np.dot(A,B)/(norm(A)*norm(B))"
   ],
   "outputs": [],
   "metadata": {}
  },
  {
   "cell_type": "code",
   "execution_count": 27,
   "source": [
    "print(\"Sim(hello world, hello john) =\", cosine_simlarity(emb1, emb3))\n",
    "print(\"Sim(hello world, greetings universe) =\", cosine_simlarity(emb1, emb2))\n",
    "print(\"Sim(hello world, a cat sat on the mat)=\", cosine_simlarity(emb1, emb4))"
   ],
   "outputs": [
    {
     "output_type": "stream",
     "name": "stdout",
     "text": [
      "Sim(hello world, hello john) = 0.7395686\n",
      "Sim(hello world, greetings universe) = 0.8110626\n",
      "Sim(hello world, a cat sat on the mat)= 0.33706236\n"
     ]
    }
   ],
   "metadata": {}
  },
  {
   "cell_type": "code",
   "execution_count": 29,
   "source": [
    "encode_func = model.encode"
   ],
   "outputs": [],
   "metadata": {}
  },
  {
   "cell_type": "code",
   "execution_count": 52,
   "source": [
    "doc = val_dataset[50]\n",
    "documents = tuple(filter(len, map(str.strip, doc['document'].split('|||||'))))\n",
    "\n",
    "sentences_by_doc = [nltk.sent_tokenize(doc) for doc in documents]\n",
    "sentences = [sent for document in sentences_by_doc for sent in document]\n",
    "sentence_lengths = np.array([len(nltk.word_tokenize(sent)) for sent in sentences])\n",
    "\n",
    "sentence_embeddings = encode_func(sentences)\n",
    "document_embeddings = encode_func(list(map('\\n'.join, sentences_by_doc)))\n",
    "print(\"Sentence embeddings shape:\", sentence_embeddings.shape)\n",
    "print(\"Document embedding shape:\", document_embeddings.shape)\n",
    "\n",
    "sentence_similarities = sentence_embeddings @ sentence_embeddings.T\n",
    "document_similarities = sentence_embeddings @ document_embeddings.T\n",
    "#sentence_similarities = cosine_simlarity(sentence_embeddings, sentence_embeddings)\n",
    "#document_similarities = cosine_simlarity(sentence_embeddings, document_embeddings)"
   ],
   "outputs": [
    {
     "output_type": "stream",
     "name": "stdout",
     "text": [
      "Sentence embeddings shape: (32, 768)\n",
      "Document embedding shape: (2, 768)\n"
     ]
    }
   ],
   "metadata": {}
  },
  {
   "cell_type": "code",
   "execution_count": 53,
   "source": [
    "import matplotlib.pyplot as plt\n",
    "\n",
    "plt.title(\"Sentence-to-sentence similarities\")\n",
    "plt.imshow(sentence_similarities)\n",
    "plt.show()\n",
    "plt.title(\"Sentence-to-document similarities\")\n",
    "plt.imshow(document_similarities.T)\n",
    "plt.show()"
   ],
   "outputs": [
    {
     "output_type": "display_data",
     "data": {
      "image/png": "[encoded data removed]",
      "text/plain": [
       "<Figure size 432x288 with 1 Axes>"
      ]
     },
     "metadata": {
      "needs_background": "light"
     }
    },
    {
     "output_type": "display_data",
     "data": {
      "image/png": "[encoded data removed]",
      "text/plain": [
       "<Figure size 432x288 with 1 Axes>"
      ]
     },
     "metadata": {
      "needs_background": "light"
     }
    }
   ],
   "metadata": {}
  },
  {
   "cell_type": "code",
   "execution_count": 54,
   "source": [
    "our_summaries = []\n",
    "for i in trange(len(val_dataset)):\n",
    "    our_summaries.append(summarize_one(val_dataset[i]['document']))"
   ],
   "outputs": [
    {
     "output_type": "display_data",
     "data": {
      "application/vnd.jupyter.widget-view+json": {
       "model_id": "346cd05829e842848a66913cf5751543",
       "version_major": 2,
       "version_minor": 0
      },
      "text/plain": [
       "  0%|          | 0/1125 [00:00<?, ?it/s]"
      ]
     },
     "metadata": {}
    },
    {
     "output_type": "error",
     "ename": "NameError",
     "evalue": "name 'summarize_one' is not defined",
     "traceback": [
      "\u001b[1;31m---------------------------------------------------------------------------\u001b[0m",
      "\u001b[1;31mNameError\u001b[0m                                 Traceback (most recent call last)",
      "\u001b[1;32m<ipython-input-54-402d40c03f45>\u001b[0m in \u001b[0;36m<module>\u001b[1;34m\u001b[0m\n\u001b[0;32m      1\u001b[0m \u001b[0mour_summaries\u001b[0m \u001b[1;33m=\u001b[0m \u001b[1;33m[\u001b[0m\u001b[1;33m]\u001b[0m\u001b[1;33m\u001b[0m\u001b[1;33m\u001b[0m\u001b[0m\n\u001b[0;32m      2\u001b[0m \u001b[1;32mfor\u001b[0m \u001b[0mi\u001b[0m \u001b[1;32min\u001b[0m \u001b[0mtrange\u001b[0m\u001b[1;33m(\u001b[0m\u001b[0mlen\u001b[0m\u001b[1;33m(\u001b[0m\u001b[0mval_dataset\u001b[0m\u001b[1;33m)\u001b[0m\u001b[1;33m)\u001b[0m\u001b[1;33m:\u001b[0m\u001b[1;33m\u001b[0m\u001b[1;33m\u001b[0m\u001b[0m\n\u001b[1;32m----> 3\u001b[1;33m     \u001b[0mour_summaries\u001b[0m\u001b[1;33m.\u001b[0m\u001b[0mappend\u001b[0m\u001b[1;33m(\u001b[0m\u001b[0msummarize_one\u001b[0m\u001b[1;33m(\u001b[0m\u001b[0mval_dataset\u001b[0m\u001b[1;33m[\u001b[0m\u001b[0mi\u001b[0m\u001b[1;33m]\u001b[0m\u001b[1;33m[\u001b[0m\u001b[1;34m'document'\u001b[0m\u001b[1;33m]\u001b[0m\u001b[1;33m)\u001b[0m\u001b[1;33m)\u001b[0m\u001b[1;33m\u001b[0m\u001b[1;33m\u001b[0m\u001b[0m\n\u001b[0m",
      "\u001b[1;31mNameError\u001b[0m: name 'summarize_one' is not defined"
     ]
    }
   ],
   "metadata": {}
  },
  {
   "cell_type": "code",
   "execution_count": null,
   "source": [
    "our_rouge1, our_rougel = compute_rouge_f1(val_dataset, our_summaries)\n",
    "\n",
    "print(\"Rouge-1:\", our_rouge1)\n",
    "print(\"Rouge-L:\", our_rougel)"
   ],
   "outputs": [],
   "metadata": {
    "scrolled": true
   }
  },
  {
   "cell_type": "markdown",
   "source": [
    "### Pegasus\n",
    "\n",
    "[Pegasus](https://arxiv.org/abs/1912.08777) is an *abstractive* summarization model based on a large pre-trained transformer. Before doing any summarizaton, the model is pre-trained on a combination of MLM and a specialized objective called **Gap Sentence Generation**: predicting an entire sentence omitted from the middle of the text.\n",
    "\n",
    "You need `tf >= 2.3` for the line below. So, upgrade!"
   ],
   "metadata": {}
  },
  {
   "cell_type": "code",
   "execution_count": 47,
   "source": [
    "from tensorflow.python.keras.engine.keras_tensor import KerasTensor"
   ],
   "outputs": [],
   "metadata": {}
  },
  {
   "cell_type": "code",
   "execution_count": 48,
   "source": [
    "import transformers\n",
    "pegasus = transformers.pipeline(\"summarization\", \"google/pegasus-multi_news\")"
   ],
   "outputs": [
    {
     "output_type": "display_data",
     "data": {
      "application/vnd.jupyter.widget-view+json": {
       "model_id": "7f4b4e3c8d45419ebf258f17ceff7a7f",
       "version_major": 2,
       "version_minor": 0
      },
      "text/plain": [
       "Downloading:   0%|          | 0.00/2.12G [00:00<?, ?B/s]"
      ]
     },
     "metadata": {}
    },
    {
     "output_type": "display_data",
     "data": {
      "application/vnd.jupyter.widget-view+json": {
       "model_id": "6764c2deb4394287a3488d6ee073e6c4",
       "version_major": 2,
       "version_minor": 0
      },
      "text/plain": [
       "Downloading:   0%|          | 0.00/88.0 [00:00<?, ?B/s]"
      ]
     },
     "metadata": {}
    },
    {
     "output_type": "display_data",
     "data": {
      "application/vnd.jupyter.widget-view+json": {
       "model_id": "094265eea8604ed7b02541b3af3548d0",
       "version_major": 2,
       "version_minor": 0
      },
      "text/plain": [
       "Downloading:   0%|          | 0.00/1.82M [00:00<?, ?B/s]"
      ]
     },
     "metadata": {}
    },
    {
     "output_type": "display_data",
     "data": {
      "application/vnd.jupyter.widget-view+json": {
       "model_id": "1aee3ad81c7c4c81b892084b0e695d3b",
       "version_major": 2,
       "version_minor": 0
      },
      "text/plain": [
       "Downloading:   0%|          | 0.00/65.0 [00:00<?, ?B/s]"
      ]
     },
     "metadata": {}
    }
   ],
   "metadata": {}
  },
  {
   "cell_type": "code",
   "execution_count": 49,
   "source": [
    "print(example['document'])"
   ],
   "outputs": [
    {
     "output_type": "stream",
     "name": "stdout",
     "text": [
      "If Donald Trump was looking for a way to upstage the Ted Cruz-John Kasich alliance, he just did. Big time. The Republican presidential front-runner signed a peace treaty of his own on Monday evening, agreeing to a one-on-one interview with Fox News Channel's Megyn Kelly — his media nemesis and a journalist he has called \"the most overrated person on TV.\" \n",
      " \n",
      " \"Mr. Trump and I sat down together for a meeting earlier this month at my request,\" Kelly said in a statement. \"He was gracious with his time, and I asked him to consider an interview. I am happy to announce he has agreed, and I look forward to a fascinating exchange — our first sit-down interview together in nearly a year.\" \n",
      " \n",
      " [The long, strange history of the Donald Trump-Megyn Kelly feud] \n",
      " \n",
      " This deal, once almost impossible to imagine, represents a victory for both sides. For Trump, in the short run, it allows him to once again take attention away from his rivals, heading into Tuesday's slate of five primary contests in which he appears likely to perform well. More broadly — barring a total meltdown in the interview — it should help him re-cast his image, a process he has already begun in earnest. The genesis of the feud was a question from Kelly in a debate last August about whether the surly billionaire possesses a presidential \"temperament.\" Trump hasn't shown one throughout most of the primary season, but being cordial with Kelly could make him look more statesmanlike. \n",
      " \n",
      " And for Kelly, scoring this interview — which seems certain to be a ratings blockbuster — is a testament to patience and professionalism. She refused to cower as Trump hurled insults, yet she never responded with the same kind of personal vitriol. On her weekday primetime show, \"The Kelly File,\" she has often represented Trump's perspective in exchanges with his critics, if only as a devil's advocate. She has been playing the long game all along, perhaps sensing that her level-headedness would eventually pay off. \n",
      " \n",
      " The meeting Kelly referenced in her statement took place at Trump Tower in New York on April 13 and was the first major sign that tensions were beginning to ease. The \"Kelly File\" host told her viewers that night that she and the real estate magnate \"had a chance to clear the air\" after months of acrimony and that she hoped to announce an interview agreement soon. \n",
      " \n",
      " Now that it's on, the Trump-Kelly sit-down will headline a previously announced special on Fox broadcasting called \"Megyn Kelly Presents\" on May 17. Fox said in a statement Monday that the hourlong telecast will include interviews with \"a wide variety of notable guests (to be announced) from the entertainment world and other spheres of human interest.\" Kelly's regular primetime show on Fox News the next night will feature additional footage from her conversation with Trump. ||||| Fox News host Megyn Kelly will interview Republican presidential candidate Donald Trump in a Fox TV special to air next month. \n",
      " \n",
      " The GOP presidential front-runner will be a guest on \"Megyn Kelly Presents,\" a prime-time special airing May 17 on Fox TV. Extended portions of the sit-down interview will also appear on \"The Kelly File\" on Fox News Channel beginning on May 18. \n",
      " \n",
      " The interview, which will take place in New York, marks the first sit-down between the two since the August 2015 presidential debate on Fox News Channel. \n",
      " \n",
      " Kelly will explore how events unfolded with Trump after the August debate as one of the most prominent voices covering the 2016 presidential campaign of the front-runner, according to a statement from Fox News. \n",
      " \n",
      " She will also examine Trump’s successful campaign for the White House to date and his role in one of the most historic presidential runs in modern times. \n",
      " \n",
      " \"Mr. Trump and I sat down together for a meeting earlier this month at my request. He was gracious with his time and I asked him to consider an interview. I am happy to announce he has agreed, and I look forward to a fascinating exchange — our first sit-down interview together in nearly a year,” Kelly said in a statement announcing the upcoming interview. \n",
      " \n",
      " In addition to the Trump interview, “Megyn Kelly Presents” will feature a wide variety of notable guests from the entertainment world and other spheres of human interest to be interviewed by Kelly. The full list of guests will be announced at a later date. \n",
      " \n",
      " FOX News Chairman & CEO Roger Ailes is the show’s senior executive producer, while broadcast veteran Bill Geddie serves as the executive producer.\n"
     ]
    }
   ],
   "metadata": {}
  },
  {
   "cell_type": "code",
   "execution_count": 50,
   "source": [
    "document = example['document'].split('|||||')[0]\n",
    "print(\"SUMMARY:\", pegasus([document], min_length=5, max_length=100)[0]['summary_text'])"
   ],
   "outputs": [
    {
     "output_type": "stream",
     "name": "stdout",
     "text": [
      "SUMMARY: – Looks like the Donald Trump-Megyn Kelly feud is finally over. The candidate and the Fox News host have agreed to a one-on-one interview that will air May 17, the Washington Post reports. \"Mr. Trump and I sat down together for a meeting earlier this month at my request,\" Kelly says in a statement. \"He was gracious with his time, and I asked him to consider an interview. I am happy to announce he has agreed, and I look forward to\n"
     ]
    }
   ],
   "metadata": {}
  },
  {
   "cell_type": "markdown",
   "source": [
    "# Conclusion\n",
    "With word2vec, you can convert words into dense floating point vectors that capture semantics.\n",
    "\n",
    "Wirh BERT, you can convert *whole sentences* into dense floating point vectors that capture semantics!\n",
    "\n",
    "Do not forget to purge your `C:\\Users\\Dino\\.cache\\huggingface` and `C:\\Users\\Dino\\.cache\\torch` foldes, that take 10GB of precious space on your C drive!!"
   ],
   "metadata": {}
  }
 ],
 "metadata": {
  "kernelspec": {
   "display_name": "Python 3 (ipykernel)",
   "language": "python",
   "name": "python3"
  },
  "language_info": {
   "codemirror_mode": {
    "name": "ipython",
    "version": 3
   },
   "file_extension": ".py",
   "mimetype": "text/x-python",
   "name": "python",
   "nbconvert_exporter": "python",
   "pygments_lexer": "ipython3",
   "version": "3.9.12"
  }
 },
 "nbformat": 4,
 "nbformat_minor": 2
}